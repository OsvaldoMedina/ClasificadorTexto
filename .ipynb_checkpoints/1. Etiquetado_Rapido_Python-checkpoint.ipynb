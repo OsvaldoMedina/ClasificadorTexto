{
 "cells": [
  {
   "cell_type": "markdown",
   "metadata": {
    "id": "Bu9C9XvfOl_J"
   },
   "source": [
    "# Etiquetado en NLTK"
   ]
  },
  {
   "cell_type": "markdown",
   "metadata": {
    "id": "5AlvswJiYTdj"
   },
   "source": [
    "## Pipeline básico para Ingles"
   ]
  },
  {
   "cell_type": "code",
   "execution_count": 1,
   "metadata": {
    "colab": {
     "base_uri": "https://localhost:8080/",
     "height": 98
    },
    "id": "Tmb2Cr7v92E7",
    "outputId": "dce89768-7703-4de9-faef-851b9fe7f700"
   },
   "outputs": [
    {
     "name": "stderr",
     "output_type": "stream",
     "text": [
      "[nltk_data] Downloading package punkt to\n",
      "[nltk_data]     C:\\Users\\osval\\AppData\\Roaming\\nltk_data...\n",
      "[nltk_data]   Package punkt is already up-to-date!\n",
      "[nltk_data] Downloading package averaged_perceptron_tagger to\n",
      "[nltk_data]     C:\\Users\\osval\\AppData\\Roaming\\nltk_data...\n",
      "[nltk_data]   Package averaged_perceptron_tagger is already up-to-\n",
      "[nltk_data]       date!\n"
     ]
    }
   ],
   "source": [
    "#@title Dependencias previas\n",
    "import nltk\n",
    "nltk.download('punkt')\n",
    "nltk.download('averaged_perceptron_tagger')\n",
    "from nltk import word_tokenize"
   ]
  },
  {
   "cell_type": "code",
   "execution_count": 2,
   "metadata": {
    "colab": {
     "base_uri": "https://localhost:8080/",
     "height": 131
    },
    "id": "8lefQX__OtfL",
    "outputId": "366cab1c-6f49-40cc-da9c-2c1efbe2baf4"
   },
   "outputs": [
    {
     "data": {
      "text/plain": [
       "[('And', 'CC'),\n",
       " ('now', 'RB'),\n",
       " ('here', 'RB'),\n",
       " ('I', 'PRP'),\n",
       " ('am', 'VBP'),\n",
       " ('enjoying', 'VBG'),\n",
       " ('today', 'NN')]"
      ]
     },
     "execution_count": 2,
     "metadata": {},
     "output_type": "execute_result"
    }
   ],
   "source": [
    "#@title Etiquetado en una línea ...\n",
    "text = word_tokenize(\"And now here I am enjoying today\")\n",
    "nltk.pos_tag(text)"
   ]
  },
  {
   "cell_type": "code",
   "execution_count": 3,
   "metadata": {
    "colab": {
     "base_uri": "https://localhost:8080/",
     "height": 510
    },
    "id": "qocvMilXPdXs",
    "outputId": "0c14c16e-259a-485d-d440-bc99e727d66e"
   },
   "outputs": [
    {
     "name": "stdout",
     "output_type": "stream",
     "text": [
      "CC: conjunction, coordinating\n",
      "    & 'n and both but either et for less minus neither nor or plus so\n",
      "    therefore times v. versus vs. whether yet\n",
      "None\n",
      "RB: adverb\n",
      "    occasionally unabatingly maddeningly adventurously professedly\n",
      "    stirringly prominently technologically magisterially predominately\n",
      "    swiftly fiscally pitilessly ...\n",
      "None\n",
      "PRP: pronoun, personal\n",
      "    hers herself him himself hisself it itself me myself one oneself ours\n",
      "    ourselves ownself self she thee theirs them themselves they thou thy us\n",
      "None\n",
      "VBP: verb, present tense, not 3rd person singular\n",
      "    predominate wrap resort sue twist spill cure lengthen brush terminate\n",
      "    appear tend stray glisten obtain comprise detest tease attract\n",
      "    emphasize mold postpone sever return wag ...\n",
      "None\n",
      "VBG: verb, present participle or gerund\n",
      "    telegraphing stirring focusing angering judging stalling lactating\n",
      "    hankerin' alleging veering capping approaching traveling besieging\n",
      "    encrypting interrupting erasing wincing ...\n",
      "None\n",
      "NN: noun, common, singular or mass\n",
      "    common-carrier cabbage knuckle-duster Casino afghan shed thermostat\n",
      "    investment slide humour falloff slick wind hyena override subhumanity\n",
      "    machinist ...\n",
      "None\n"
     ]
    },
    {
     "name": "stderr",
     "output_type": "stream",
     "text": [
      "[nltk_data] Downloading package tagsets to\n",
      "[nltk_data]     C:\\Users\\osval\\AppData\\Roaming\\nltk_data...\n",
      "[nltk_data]   Package tagsets is already up-to-date!\n"
     ]
    }
   ],
   "source": [
    "#@title Categoria gramatical de cada etiqueta\n",
    "nltk.download('tagsets')\n",
    "for tag in ['CC', 'RB', 'PRP', 'VBP', 'VBG', 'NN']:\n",
    "  print(nltk.help.upenn_tagset(tag))"
   ]
  },
  {
   "cell_type": "code",
   "execution_count": 4,
   "metadata": {
    "colab": {
     "base_uri": "https://localhost:8080/",
     "height": 181
    },
    "id": "MEo2MWrkPqrO",
    "outputId": "3a57539a-8a0f-4476-e722-c65014e43926"
   },
   "outputs": [
    {
     "data": {
      "text/plain": [
       "[('They', 'PRP'),\n",
       " ('do', 'VBP'),\n",
       " ('not', 'RB'),\n",
       " ('permit', 'VB'),\n",
       " ('other', 'JJ'),\n",
       " ('people', 'NNS'),\n",
       " ('to', 'TO'),\n",
       " ('get', 'VB'),\n",
       " ('residence', 'NN'),\n",
       " ('permit', 'NN')]"
      ]
     },
     "execution_count": 4,
     "metadata": {},
     "output_type": "execute_result"
    }
   ],
   "source": [
    "#@title Palabras homónimas\n",
    "text = word_tokenize(\"They do not permit other people to get residence permit\")\n",
    "nltk.pos_tag(text)"
   ]
  },
  {
   "cell_type": "markdown",
   "metadata": {
    "id": "EIIi46WzYZvc"
   },
   "source": [
    "## Etiquetado en Español \n",
    "\n",
    "Para el ingles, NLTK tiene tokenizador y etiquetador pre-entrenados por defecto. En cambio, para otros idiomas es preciso entrenarlo previamente. \n",
    "\n",
    "* usamos el corpus `cess_esp` https://mailman.uib.no/public/corpora/2007-October/005448.html\n",
    "\n",
    "* el cual usa una convención de etiquetas gramaticales dada por el grupo EAGLES https://www.cs.upc.edu/~nlp/tools/parole-sp.html"
   ]
  },
  {
   "cell_type": "code",
   "execution_count": 5,
   "metadata": {
    "colab": {
     "base_uri": "https://localhost:8080/",
     "height": 49
    },
    "id": "1uLX4KgDX-cs",
    "outputId": "37b51208-4c6c-4ca7-a969-c67a9ac040c0"
   },
   "outputs": [
    {
     "name": "stderr",
     "output_type": "stream",
     "text": [
      "[nltk_data] Downloading package cess_esp to\n",
      "[nltk_data]     C:\\Users\\osval\\AppData\\Roaming\\nltk_data...\n",
      "[nltk_data]   Package cess_esp is already up-to-date!\n"
     ]
    }
   ],
   "source": [
    "nltk.download('cess_esp')\n",
    "from nltk.corpus import cess_esp as cess\n",
    "from nltk import UnigramTagger as ut\n",
    "from nltk import BigramTagger as bt"
   ]
  },
  {
   "cell_type": "code",
   "execution_count": 8,
   "metadata": {
    "colab": {
     "base_uri": "https://localhost:8080/",
     "height": 32
    },
    "id": "mFi7BLojYw-F",
    "outputId": "35b1c62f-46fe-4f5d-f8b9-2ee0525e7083"
   },
   "outputs": [
    {
     "data": {
      "text/plain": [
       "0.8069484240687679"
      ]
     },
     "execution_count": 8,
     "metadata": {},
     "output_type": "execute_result"
    }
   ],
   "source": [
    "#@title Entrenamiendo del tagger por unigramas\n",
    "cess_sents = cess.tagged_sents()\n",
    "fraction = int(len(cess_sents)*90/100)\n",
    "cess_sents = cess.tagged_sents()\n",
    "uni_tagger = ut(cess_sents[:fraction])\n",
    "uni_tagger.evaluate(cess_sents[fraction+1:])"
   ]
  },
  {
   "cell_type": "code",
   "execution_count": 9,
   "metadata": {
    "colab": {
     "base_uri": "https://localhost:8080/",
     "height": 115
    },
    "id": "HHA32_xVg81K",
    "outputId": "55a64d99-9465-4337-f6ee-42bafd25cb84"
   },
   "outputs": [
    {
     "data": {
      "text/plain": [
       "[('Yo', 'pp1csn00'),\n",
       " ('soy', 'vsip1s0'),\n",
       " ('una', 'di0fs0'),\n",
       " ('persona', 'ncfs000'),\n",
       " ('muy', 'rg'),\n",
       " ('amable', None)]"
      ]
     },
     "execution_count": 9,
     "metadata": {},
     "output_type": "execute_result"
    }
   ],
   "source": [
    "uni_tagger.tag(\"Yo soy una persona muy amable\".split(\" \"))"
   ]
  },
  {
   "cell_type": "code",
   "execution_count": 10,
   "metadata": {
    "colab": {
     "base_uri": "https://localhost:8080/",
     "height": 32
    },
    "id": "kDIt1k1ubB9D",
    "outputId": "cffe9d86-fd47-4c4a-d57f-69702843f307"
   },
   "outputs": [
    {
     "data": {
      "text/plain": [
       "0.1095272206303725"
      ]
     },
     "execution_count": 10,
     "metadata": {},
     "output_type": "execute_result"
    }
   ],
   "source": [
    "#@title Entrenamiento del tagger por bigramas\n",
    "fraction = int(len(cess_sents)*90/100)\n",
    "bi_tagger = bt(cess_sents[:fraction])\n",
    "bi_tagger.evaluate(cess_sents[fraction+1:])"
   ]
  },
  {
   "cell_type": "code",
   "execution_count": 11,
   "metadata": {
    "colab": {
     "base_uri": "https://localhost:8080/",
     "height": 115
    },
    "id": "nLCTRHeHfiY3",
    "outputId": "bfc54ac9-6a05-4a2b-d541-72382d29bd94"
   },
   "outputs": [
    {
     "data": {
      "text/plain": [
       "[('Yo', 'pp1csn00'),\n",
       " ('soy', 'vsip1s0'),\n",
       " ('una', None),\n",
       " ('persona', None),\n",
       " ('muy', None),\n",
       " ('amable', None)]"
      ]
     },
     "execution_count": 11,
     "metadata": {},
     "output_type": "execute_result"
    }
   ],
   "source": [
    "bi_tagger.tag(\"Yo soy una persona muy amable\".split(\" \"))"
   ]
  },
  {
   "cell_type": "markdown",
   "metadata": {
    "id": "m50bRKLlikbx"
   },
   "source": [
    "# Etiquetado mejorado con Stanza (StanfordNLP)\n",
    "\n",
    "**¿Que es Stanza?**\n",
    "\n",
    "* El grupo de investigacion en NLP de Stanford tenía una suite de librerias que ejecutaban varias tareas de NLP, esta suite se unifico en un solo servicio que llamaron **CoreNLP** con base en codigo java: https://stanfordnlp.github.io/CoreNLP/index.html\n",
    "\n",
    "* Para python existe **StanfordNLP**: https://stanfordnlp.github.io/stanfordnlp/index.html\n",
    "\n",
    "* Sin embargo, **StanfordNLP** ha sido deprecado y las nuevas versiones de la suite de NLP reciben mantenimiento bajo el nombre de **Stanza**: https://stanfordnlp.github.io/stanza/"
   ]
  },
  {
   "cell_type": "code",
   "execution_count": 12,
   "metadata": {
    "colab": {
     "base_uri": "https://localhost:8080/",
     "height": 296
    },
    "id": "WY_YTM6TirMd",
    "outputId": "241e0bb1-e160-436a-904f-7bedc7ae01e4"
   },
   "outputs": [
    {
     "name": "stdout",
     "output_type": "stream",
     "text": [
      "Requirement already satisfied: stanza in c:\\users\\osval\\appdata\\local\\programs\\python\\python39\\lib\\site-packages (1.2.3)\n",
      "Requirement already satisfied: numpy in c:\\users\\osval\\appdata\\local\\programs\\python\\python39\\lib\\site-packages (from stanza) (1.21.2)\n",
      "Requirement already satisfied: torch>=1.3.0 in c:\\users\\osval\\appdata\\local\\programs\\python\\python39\\lib\\site-packages (from stanza) (1.9.0)\n",
      "Requirement already satisfied: requests in c:\\users\\osval\\appdata\\local\\programs\\python\\python39\\lib\\site-packages (from stanza) (2.25.1)\n",
      "Requirement already satisfied: protobuf in c:\\users\\osval\\appdata\\local\\programs\\python\\python39\\lib\\site-packages (from stanza) (3.14.0)\n",
      "Requirement already satisfied: tqdm in c:\\users\\osval\\appdata\\local\\programs\\python\\python39\\lib\\site-packages (from stanza) (4.62.2)\n",
      "Requirement already satisfied: typing-extensions in c:\\users\\osval\\appdata\\local\\programs\\python\\python39\\lib\\site-packages (from torch>=1.3.0->stanza) (3.10.0.0)\n",
      "Requirement already satisfied: six>=1.9 in c:\\users\\osval\\appdata\\local\\programs\\python\\python39\\lib\\site-packages (from protobuf->stanza) (1.15.0)\n",
      "Requirement already satisfied: idna<3,>=2.5 in c:\\users\\osval\\appdata\\local\\programs\\python\\python39\\lib\\site-packages (from requests->stanza) (2.10)\n",
      "Requirement already satisfied: urllib3<1.27,>=1.21.1 in c:\\users\\osval\\appdata\\local\\programs\\python\\python39\\lib\\site-packages (from requests->stanza) (1.26.2)\n",
      "Requirement already satisfied: chardet<5,>=3.0.2 in c:\\users\\osval\\appdata\\local\\programs\\python\\python39\\lib\\site-packages (from requests->stanza) (4.0.0)\n",
      "Requirement already satisfied: certifi>=2017.4.17 in c:\\users\\osval\\appdata\\local\\programs\\python\\python39\\lib\\site-packages (from requests->stanza) (2020.12.5)\n",
      "Requirement already satisfied: colorama in c:\\users\\osval\\appdata\\local\\programs\\python\\python39\\lib\\site-packages (from tqdm->stanza) (0.4.4)\n"
     ]
    }
   ],
   "source": [
    "!pip install stanza"
   ]
  },
  {
   "cell_type": "code",
   "execution_count": 13,
   "metadata": {
    "colab": {
     "base_uri": "https://localhost:8080/",
     "height": 82
    },
    "id": "HG-Sdn6QmHgR",
    "outputId": "dcd469a4-37f0-4230-f24b-4335aea9a118"
   },
   "outputs": [
    {
     "data": {
      "application/vnd.jupyter.widget-view+json": {
       "model_id": "f0057c35e81a43b2a31da10a9e24fd29",
       "version_major": 2,
       "version_minor": 0
      },
      "text/plain": [
       "Downloading https://raw.githubusercontent.com/stanfordnlp/stanza-resources/main/resources_1.2.2.json:   0%|   …"
      ]
     },
     "metadata": {},
     "output_type": "display_data"
    },
    {
     "name": "stderr",
     "output_type": "stream",
     "text": [
      "2021-09-01 17:27:27 INFO: Downloading default packages for language: es (Spanish)...\n"
     ]
    },
    {
     "data": {
      "application/vnd.jupyter.widget-view+json": {
       "model_id": "b41ade31cba54fdcafce4ef66b30931f",
       "version_major": 2,
       "version_minor": 0
      },
      "text/plain": [
       "Downloading http://nlp.stanford.edu/software/stanza/1.2.2/es/default.zip:   0%|          | 0.00/566M [00:00<?,…"
      ]
     },
     "metadata": {},
     "output_type": "display_data"
    },
    {
     "name": "stderr",
     "output_type": "stream",
     "text": [
      "2021-09-01 17:29:20 INFO: Finished downloading models and saved to C:\\Users\\osval\\stanza_resources.\n"
     ]
    }
   ],
   "source": [
    "# esta parte puede demorar un poco ....\n",
    "import stanza\n",
    "stanza.download('es')"
   ]
  },
  {
   "cell_type": "code",
   "execution_count": 14,
   "metadata": {
    "colab": {
     "base_uri": "https://localhost:8080/",
     "height": 214
    },
    "id": "B2sKNXawmWH7",
    "outputId": "b1cfbeea-b82c-4100-fa0c-97a9203ffbc0"
   },
   "outputs": [
    {
     "name": "stderr",
     "output_type": "stream",
     "text": [
      "2021-09-01 17:43:25 WARNING: Language es package default expects mwt, which has been added\n",
      "2021-09-01 17:43:25 INFO: Loading these models for language: es (Spanish):\n",
      "=======================\n",
      "| Processor | Package |\n",
      "-----------------------\n",
      "| tokenize  | ancora  |\n",
      "| mwt       | ancora  |\n",
      "| pos       | ancora  |\n",
      "=======================\n",
      "\n",
      "2021-09-01 17:43:25 INFO: Use device: cpu\n",
      "2021-09-01 17:43:25 INFO: Loading: tokenize\n",
      "2021-09-01 17:43:25 INFO: Loading: mwt\n",
      "2021-09-01 17:43:25 INFO: Loading: pos\n",
      "2021-09-01 17:43:25 INFO: Done loading processors!\n"
     ]
    }
   ],
   "source": [
    "nlp = stanza.Pipeline('es', processors='tokenize,pos')\n",
    "doc = nlp('yo soy una persona muy amable')"
   ]
  },
  {
   "cell_type": "code",
   "execution_count": 15,
   "metadata": {
    "colab": {
     "base_uri": "https://localhost:8080/",
     "height": 115
    },
    "id": "86rL3IJRm1oI",
    "outputId": "d6a637a1-1f83-4cbc-b854-1be92012ddfb"
   },
   "outputs": [
    {
     "name": "stdout",
     "output_type": "stream",
     "text": [
      "yo PRON\n",
      "soy AUX\n",
      "una DET\n",
      "persona NOUN\n",
      "muy ADV\n",
      "amable ADJ\n"
     ]
    }
   ],
   "source": [
    "for sentence in doc.sentences:\n",
    "    for word in sentence.words:\n",
    "        print(word.text, word.pos)"
   ]
  },
  {
   "cell_type": "markdown",
   "metadata": {
    "id": "UsZF93NQodxX"
   },
   "source": [
    "# Referencias adicionales:\n",
    "\n",
    "* Etiquetado POS con Stanza https://stanfordnlp.github.io/stanza/pos.html#accessing-pos-and-morphological-feature-for-word\n",
    "\n",
    "* Stanza | Github: https://github.com/stanfordnlp/stanza\n",
    "\n",
    "* Articulo en ArXiv: https://arxiv.org/pdf/2003.07082.pdf"
   ]
  },
  {
   "cell_type": "code",
   "execution_count": null,
   "metadata": {
    "id": "a2gkMtDvyK_F"
   },
   "outputs": [],
   "source": []
  }
 ],
 "metadata": {
  "colab": {
   "name": "Copia de [Lectura_2/3]Etiquetado_Rapido_Python.ipynb",
   "provenance": []
  },
  "kernelspec": {
   "display_name": "Python 3",
   "language": "python",
   "name": "python3"
  },
  "language_info": {
   "codemirror_mode": {
    "name": "ipython",
    "version": 3
   },
   "file_extension": ".py",
   "mimetype": "text/x-python",
   "name": "python",
   "nbconvert_exporter": "python",
   "pygments_lexer": "ipython3",
   "version": "3.9.6"
  }
 },
 "nbformat": 4,
 "nbformat_minor": 4
}
