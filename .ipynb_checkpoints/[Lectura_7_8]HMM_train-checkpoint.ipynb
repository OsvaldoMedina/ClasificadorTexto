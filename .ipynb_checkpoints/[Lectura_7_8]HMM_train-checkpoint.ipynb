{
  "nbformat": 4,
  "nbformat_minor": 0,
  "metadata": {
    "colab": {
      "name": "[Lectura_7/8]HMM_train.ipynb",
      "provenance": [],
      "collapsed_sections": [
        "apZTvqywabkM"
      ]
    },
    "kernelspec": {
      "name": "python3",
      "display_name": "Python 3"
    }
  },
  "cells": [
    {
      "cell_type": "markdown",
      "metadata": {
        "id": "hSAvAQeUboQH"
      },
      "source": [
        "# Entrenando un Modelo Markoviano Latente (HMM)"
      ]
    },
    {
      "cell_type": "markdown",
      "metadata": {
        "id": "apZTvqywabkM"
      },
      "source": [
        "## Corpus de español: \n",
        "\n",
        "* AnCora | Github: https://github.com/UniversalDependencies/UD_Spanish-AnCora\n",
        "\n",
        "* usamos el conllu parser para leer el corpus: https://pypi.org/project/conllu/\n",
        "\n",
        "* Etiquetas Universal POS (Documentación): https://universaldependencies.org/u/pos/"
      ]
    },
    {
      "cell_type": "code",
      "metadata": {
        "id": "7SyjRpNdXx6l",
        "colab": {
          "base_uri": "https://localhost:8080/",
          "height": 228
        },
        "outputId": "c199c05e-2c3a-47fa-ee61-b562798bc369"
      },
      "source": [
        "#@title dependencias previas\n",
        "!pip install conllu\n",
        "!git clone https://github.com/UniversalDependencies/UD_Spanish-AnCora.git"
      ],
      "execution_count": null,
      "outputs": [
        {
          "output_type": "stream",
          "text": [
            "Collecting conllu\n",
            "  Downloading https://files.pythonhosted.org/packages/66/0b/a8863b5c14aee200a13a0f8c28550fd0132e947ae88441c9f517eb84613b/conllu-3.0-py2.py3-none-any.whl\n",
            "Installing collected packages: conllu\n",
            "Successfully installed conllu-3.0\n",
            "Cloning into 'UD_Spanish-AnCora'...\n",
            "remote: Enumerating objects: 11, done.\u001b[K\n",
            "remote: Counting objects: 100% (11/11), done.\u001b[K\n",
            "remote: Compressing objects: 100% (8/8), done.\u001b[K\n",
            "remote: Total 506 (delta 4), reused 9 (delta 3), pack-reused 495\n",
            "Receiving objects: 100% (506/506), 108.34 MiB | 25.85 MiB/s, done.\n",
            "Resolving deltas: 100% (351/351), done.\n"
          ],
          "name": "stdout"
        }
      ]
    },
    {
      "cell_type": "code",
      "metadata": {
        "id": "2KxqUFhyXozz"
      },
      "source": [
        "#@title leyendo el corpus AnCora\n",
        "from conllu import parse_incr \n",
        "wordList = []\n",
        "data_file = open(\"UD_Spanish-AnCora/es_ancora-ud-dev.conllu\", \"r\", encoding=\"utf-8\")\n",
        "for tokenlist in parse_incr(data_file):\n",
        "    print(tokenlist.serialize())"
      ],
      "execution_count": null,
      "outputs": []
    },
    {
      "cell_type": "code",
      "metadata": {
        "id": "atcsH_bm9L6T",
        "colab": {
          "base_uri": "https://localhost:8080/",
          "height": 190
        },
        "outputId": "d9a117a8-2ea4-45ad-eada-cb5d8266b3d0"
      },
      "source": [
        "#@title Estructura de los tokens etiquetados del corpus\n",
        "tokenlist[1]"
      ],
      "execution_count": null,
      "outputs": [
        {
          "output_type": "execute_result",
          "data": {
            "text/plain": [
              "Token([('id', 2),\n",
              "       ('form', 'cierto'),\n",
              "       ('lemma', 'cierto'),\n",
              "       ('upos', 'ADJ'),\n",
              "       ('xpos', 'ADJ'),\n",
              "       ('feats', OrderedDict([('Gender', 'Masc'), ('Number', 'Sing')])),\n",
              "       ('head', 3),\n",
              "       ('deprel', 'nsubj'),\n",
              "       ('deps', None),\n",
              "       ('misc', None)])"
            ]
          },
          "metadata": {
            "tags": []
          },
          "execution_count": 3
        }
      ]
    },
    {
      "cell_type": "code",
      "metadata": {
        "id": "Ia8ZEUJmaQdw",
        "colab": {
          "base_uri": "https://localhost:8080/",
          "height": 36
        },
        "outputId": "a002ba40-875b-4f2a-99f1-4984a5c9e9b3"
      },
      "source": [
        "tokenlist[1]['form']+'|'+tokenlist[1]['upos']"
      ],
      "execution_count": null,
      "outputs": [
        {
          "output_type": "execute_result",
          "data": {
            "application/vnd.google.colaboratory.intrinsic": {
              "type": "string"
            },
            "text/plain": [
              "'cierto|ADJ'"
            ]
          },
          "metadata": {
            "tags": []
          },
          "execution_count": 4
        }
      ]
    },
    {
      "cell_type": "markdown",
      "metadata": {
        "id": "g2F4mvQqN5Tm"
      },
      "source": [
        "## Entrenamiento del modelo - Calculo de conteos:\n",
        "\n",
        "* tags (tags) `tagCountDict`: $C(tag)$\n",
        "* emisiones (word|tag) `emissionProbDict`: $C(word|tag)$\n",
        "* transiciones (tag|prevtag) `transitionDict`: $C(tag|prevtag)$"
      ]
    },
    {
      "cell_type": "code",
      "metadata": {
        "id": "N04oYlQgeAW9"
      },
      "source": [
        "tagCountDict = {} \n",
        "emissionDict = {}\n",
        "transitionDict = {}\n",
        "\n",
        "tagtype = 'upos'\n",
        "data_file = open(\"UD_Spanish-AnCora/es_ancora-ud-dev.conllu\", \"r\", encoding=\"utf-8\")\n",
        "\n",
        "# Calculando conteos (pre-probabilidades)\n",
        "for tokenlist in parse_incr(data_file):\n",
        "  prevtag = None\n",
        "  for token in tokenlist:\n",
        "\n",
        "    # C(tag)\n",
        "    tag = token[tagtype]\n",
        "    if tag in tagCountDict.keys():\n",
        "      tagCountDict[tag] += 1\n",
        "    else:\n",
        "      tagCountDict[tag] = 1\n",
        "\n",
        "    # C(word|tag) -> probabilidades emision\n",
        "    wordtag = token['form'].lower()+'|'+token[tagtype] # (word|tag)\n",
        "    if wordtag in emissionDict.keys():\n",
        "      emissionDict[wordtag] = emissionDict[wordtag] + 1\n",
        "    else:\n",
        "      emissionDict[wordtag] = 1\n",
        "\n",
        "    #  C(tag|tag_previo) -> probabilidades transición\n",
        "    if prevtag is None:\n",
        "      prevtag = tag\n",
        "      continue\n",
        "    transitiontags = tag+'|'+prevtag\n",
        "    if transitiontags in transitionDict.keys():\n",
        "      transitionDict[transitiontags] = transitionDict[transitiontags] + 1\n",
        "    else:\n",
        "      transitionDict[transitiontags] = 1\n",
        "    prevtag = tag\n",
        "    \n",
        "#transitionDict\n",
        "#emissionDict\n",
        "#tagCountDict"
      ],
      "execution_count": null,
      "outputs": []
    },
    {
      "cell_type": "markdown",
      "metadata": {
        "id": "XIXcZxSdOO__"
      },
      "source": [
        "## Entrenamiento del modelo - calculo de probabilidades\n",
        "* probabilidades de transición:\n",
        "$$P(tag|prevtag) = \\frac{C(prevtag, tag)}{C(prevtag)}$$\n",
        "\n",
        "* probabilidades de emisión:\n",
        " $$P(word|tag) = \\frac{C(word|tag)}{C(tag)}$$"
      ]
    },
    {
      "cell_type": "code",
      "metadata": {
        "id": "KznFFp2COzf7",
        "colab": {
          "base_uri": "https://localhost:8080/",
          "height": 34
        },
        "outputId": "878214a9-e32a-41ce-87b6-e615b33c7ada"
      },
      "source": [
        "transitionProbDict = {} # matriz A\n",
        "emissionProbDict = {} # matriz B\n",
        "\n",
        "# transition Probabilities \n",
        "for key in transitionDict.keys():\n",
        "  tag, prevtag = key.split('|')\n",
        "  if tagCountDict[prevtag]>0:\n",
        "    transitionProbDict[key] = transitionDict[key]/(tagCountDict[prevtag])\n",
        "  else:\n",
        "    print(key)\n",
        "\n",
        "# emission Probabilities \n",
        "for key in emissionDict.keys():\n",
        "  word, tag = key.split('|')\n",
        "  if emissionDict[key]>0:\n",
        "    emissionProbDict[key] = emissionDict[key]/tagCountDict[tag]\n",
        "  else:\n",
        "    print(key)\n",
        "\n",
        "transitionProbDict['ADJ|ADJ']\n",
        "#emissionProbDict"
      ],
      "execution_count": null,
      "outputs": [
        {
          "output_type": "execute_result",
          "data": {
            "text/plain": [
              "0.030225988700564973"
            ]
          },
          "metadata": {
            "tags": []
          },
          "execution_count": 6
        }
      ]
    },
    {
      "cell_type": "markdown",
      "metadata": {
        "id": "_AyYqw1FZZ89"
      },
      "source": [
        "## Guardar parámetros del modelo"
      ]
    },
    {
      "cell_type": "code",
      "metadata": {
        "id": "Ido5QcAkY4OK",
        "colab": {
          "base_uri": "https://localhost:8080/",
          "height": 34
        },
        "outputId": "41e7d6c2-68c4-4090-826a-951ab980b238"
      },
      "source": [
        "import numpy as np\n",
        "np.save('transitionHMM.npy', transitionProbDict)\n",
        "np.save('emissionHMM.npy', emissionProbDict)\n",
        "transitionProbdict = np.load('transitionHMM.npy', allow_pickle='TRUE').item()\n",
        "transitionProbDict['ADJ|ADJ']"
      ],
      "execution_count": null,
      "outputs": [
        {
          "output_type": "execute_result",
          "data": {
            "text/plain": [
              "0.030225988700564973"
            ]
          },
          "metadata": {
            "tags": []
          },
          "execution_count": 7
        }
      ]
    }
  ]
}